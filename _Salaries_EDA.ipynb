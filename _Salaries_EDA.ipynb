{
 "cells": [
  {
   "cell_type": "markdown",
   "metadata": {},
   "source": [
    "# SF Salaries Analysis"
   ]
  },
  {
   "cell_type": "code",
   "execution_count": 1,
   "metadata": {},
   "outputs": [
    {
     "name": "stderr",
     "output_type": "stream",
     "text": [
      "D:\\anaconda\\lib\\site-packages\\scipy\\__init__.py:146: UserWarning: A NumPy version >=1.16.5 and <1.23.0 is required for this version of SciPy (detected version 1.26.3\n",
      "  warnings.warn(f\"A NumPy version >={np_minversion} and <{np_maxversion}\"\n"
     ]
    }
   ],
   "source": [
    "# import libraries\n",
    "import pandas as pd\n",
    "import matplotlib.pyplot as plt\n",
    "import seaborn as sns\n",
    "%matplotlib inline "
   ]
  },
  {
   "cell_type": "markdown",
   "metadata": {},
   "source": [
    "**Read Data**"
   ]
  },
  {
   "cell_type": "code",
   "execution_count": 2,
   "metadata": {},
   "outputs": [
    {
     "name": "stderr",
     "output_type": "stream",
     "text": [
      "C:\\Users\\manar\\AppData\\Local\\Temp\\ipykernel_27432\\3577139239.py:1: DtypeWarning: Columns (3,4,5,6,12) have mixed types. Specify dtype option on import or set low_memory=False.\n",
      "  sal = pd.read_csv('D:/Salaries.csv')\n"
     ]
    },
    {
     "data": {
      "text/html": [
       "<div>\n",
       "<style scoped>\n",
       "    .dataframe tbody tr th:only-of-type {\n",
       "        vertical-align: middle;\n",
       "    }\n",
       "\n",
       "    .dataframe tbody tr th {\n",
       "        vertical-align: top;\n",
       "    }\n",
       "\n",
       "    .dataframe thead th {\n",
       "        text-align: right;\n",
       "    }\n",
       "</style>\n",
       "<table border=\"1\" class=\"dataframe\">\n",
       "  <thead>\n",
       "    <tr style=\"text-align: right;\">\n",
       "      <th></th>\n",
       "      <th>Id</th>\n",
       "      <th>EmployeeName</th>\n",
       "      <th>JobTitle</th>\n",
       "      <th>BasePay</th>\n",
       "      <th>OvertimePay</th>\n",
       "      <th>OtherPay</th>\n",
       "      <th>Benefits</th>\n",
       "      <th>TotalPay</th>\n",
       "      <th>TotalPayBenefits</th>\n",
       "      <th>Year</th>\n",
       "      <th>Notes</th>\n",
       "      <th>Agency</th>\n",
       "      <th>Status</th>\n",
       "    </tr>\n",
       "  </thead>\n",
       "  <tbody>\n",
       "    <tr>\n",
       "      <th>0</th>\n",
       "      <td>1</td>\n",
       "      <td>NATHANIEL FORD</td>\n",
       "      <td>GENERAL MANAGER-METROPOLITAN TRANSIT AUTHORITY</td>\n",
       "      <td>167411.18</td>\n",
       "      <td>0.0</td>\n",
       "      <td>400184.25</td>\n",
       "      <td>NaN</td>\n",
       "      <td>567595.43</td>\n",
       "      <td>567595.43</td>\n",
       "      <td>2011</td>\n",
       "      <td>NaN</td>\n",
       "      <td>San Francisco</td>\n",
       "      <td>NaN</td>\n",
       "    </tr>\n",
       "    <tr>\n",
       "      <th>1</th>\n",
       "      <td>2</td>\n",
       "      <td>GARY JIMENEZ</td>\n",
       "      <td>CAPTAIN III (POLICE DEPARTMENT)</td>\n",
       "      <td>155966.02</td>\n",
       "      <td>245131.88</td>\n",
       "      <td>137811.38</td>\n",
       "      <td>NaN</td>\n",
       "      <td>538909.28</td>\n",
       "      <td>538909.28</td>\n",
       "      <td>2011</td>\n",
       "      <td>NaN</td>\n",
       "      <td>San Francisco</td>\n",
       "      <td>NaN</td>\n",
       "    </tr>\n",
       "    <tr>\n",
       "      <th>2</th>\n",
       "      <td>3</td>\n",
       "      <td>ALBERT PARDINI</td>\n",
       "      <td>CAPTAIN III (POLICE DEPARTMENT)</td>\n",
       "      <td>212739.13</td>\n",
       "      <td>106088.18</td>\n",
       "      <td>16452.6</td>\n",
       "      <td>NaN</td>\n",
       "      <td>335279.91</td>\n",
       "      <td>335279.91</td>\n",
       "      <td>2011</td>\n",
       "      <td>NaN</td>\n",
       "      <td>San Francisco</td>\n",
       "      <td>NaN</td>\n",
       "    </tr>\n",
       "    <tr>\n",
       "      <th>3</th>\n",
       "      <td>4</td>\n",
       "      <td>CHRISTOPHER CHONG</td>\n",
       "      <td>WIRE ROPE CABLE MAINTENANCE MECHANIC</td>\n",
       "      <td>77916.0</td>\n",
       "      <td>56120.71</td>\n",
       "      <td>198306.9</td>\n",
       "      <td>NaN</td>\n",
       "      <td>332343.61</td>\n",
       "      <td>332343.61</td>\n",
       "      <td>2011</td>\n",
       "      <td>NaN</td>\n",
       "      <td>San Francisco</td>\n",
       "      <td>NaN</td>\n",
       "    </tr>\n",
       "    <tr>\n",
       "      <th>4</th>\n",
       "      <td>5</td>\n",
       "      <td>PATRICK GARDNER</td>\n",
       "      <td>DEPUTY CHIEF OF DEPARTMENT,(FIRE DEPARTMENT)</td>\n",
       "      <td>134401.6</td>\n",
       "      <td>9737.0</td>\n",
       "      <td>182234.59</td>\n",
       "      <td>NaN</td>\n",
       "      <td>326373.19</td>\n",
       "      <td>326373.19</td>\n",
       "      <td>2011</td>\n",
       "      <td>NaN</td>\n",
       "      <td>San Francisco</td>\n",
       "      <td>NaN</td>\n",
       "    </tr>\n",
       "  </tbody>\n",
       "</table>\n",
       "</div>"
      ],
      "text/plain": [
       "   Id       EmployeeName                                        JobTitle  \\\n",
       "0   1     NATHANIEL FORD  GENERAL MANAGER-METROPOLITAN TRANSIT AUTHORITY   \n",
       "1   2       GARY JIMENEZ                 CAPTAIN III (POLICE DEPARTMENT)   \n",
       "2   3     ALBERT PARDINI                 CAPTAIN III (POLICE DEPARTMENT)   \n",
       "3   4  CHRISTOPHER CHONG            WIRE ROPE CABLE MAINTENANCE MECHANIC   \n",
       "4   5    PATRICK GARDNER    DEPUTY CHIEF OF DEPARTMENT,(FIRE DEPARTMENT)   \n",
       "\n",
       "     BasePay OvertimePay   OtherPay Benefits   TotalPay  TotalPayBenefits  \\\n",
       "0  167411.18         0.0  400184.25      NaN  567595.43         567595.43   \n",
       "1  155966.02   245131.88  137811.38      NaN  538909.28         538909.28   \n",
       "2  212739.13   106088.18    16452.6      NaN  335279.91         335279.91   \n",
       "3    77916.0    56120.71   198306.9      NaN  332343.61         332343.61   \n",
       "4   134401.6      9737.0  182234.59      NaN  326373.19         326373.19   \n",
       "\n",
       "   Year  Notes         Agency Status  \n",
       "0  2011    NaN  San Francisco    NaN  \n",
       "1  2011    NaN  San Francisco    NaN  \n",
       "2  2011    NaN  San Francisco    NaN  \n",
       "3  2011    NaN  San Francisco    NaN  \n",
       "4  2011    NaN  San Francisco    NaN  "
      ]
     },
     "execution_count": 2,
     "metadata": {},
     "output_type": "execute_result"
    }
   ],
   "source": [
    "sal = pd.read_csv('D:/Salaries.csv')\n",
    "sal.head()"
   ]
  },
  {
   "cell_type": "markdown",
   "metadata": {},
   "source": [
    "# Data Exploration"
   ]
  },
  {
   "cell_type": "markdown",
   "metadata": {},
   "source": [
    "### Tasks\n",
    "   1. Identify the number of rows and columns in the dataset\n",
    "   2. determine the data types of each column\n",
    "   3. and check for missing values in each column."
   ]
  },
  {
   "cell_type": "code",
   "execution_count": 3,
   "metadata": {},
   "outputs": [
    {
     "data": {
      "text/html": [
       "<div>\n",
       "<style scoped>\n",
       "    .dataframe tbody tr th:only-of-type {\n",
       "        vertical-align: middle;\n",
       "    }\n",
       "\n",
       "    .dataframe tbody tr th {\n",
       "        vertical-align: top;\n",
       "    }\n",
       "\n",
       "    .dataframe thead th {\n",
       "        text-align: right;\n",
       "    }\n",
       "</style>\n",
       "<table border=\"1\" class=\"dataframe\">\n",
       "  <thead>\n",
       "    <tr style=\"text-align: right;\">\n",
       "      <th></th>\n",
       "      <th>Id</th>\n",
       "      <th>TotalPay</th>\n",
       "      <th>TotalPayBenefits</th>\n",
       "      <th>Year</th>\n",
       "      <th>Notes</th>\n",
       "    </tr>\n",
       "  </thead>\n",
       "  <tbody>\n",
       "    <tr>\n",
       "      <th>count</th>\n",
       "      <td>148654.000000</td>\n",
       "      <td>148654.000000</td>\n",
       "      <td>148654.000000</td>\n",
       "      <td>148654.000000</td>\n",
       "      <td>0.0</td>\n",
       "    </tr>\n",
       "    <tr>\n",
       "      <th>mean</th>\n",
       "      <td>74327.500000</td>\n",
       "      <td>74768.321972</td>\n",
       "      <td>93692.554811</td>\n",
       "      <td>2012.522643</td>\n",
       "      <td>NaN</td>\n",
       "    </tr>\n",
       "    <tr>\n",
       "      <th>std</th>\n",
       "      <td>42912.857795</td>\n",
       "      <td>50517.005274</td>\n",
       "      <td>62793.533483</td>\n",
       "      <td>1.117538</td>\n",
       "      <td>NaN</td>\n",
       "    </tr>\n",
       "    <tr>\n",
       "      <th>min</th>\n",
       "      <td>1.000000</td>\n",
       "      <td>-618.130000</td>\n",
       "      <td>-618.130000</td>\n",
       "      <td>2011.000000</td>\n",
       "      <td>NaN</td>\n",
       "    </tr>\n",
       "    <tr>\n",
       "      <th>25%</th>\n",
       "      <td>37164.250000</td>\n",
       "      <td>36168.995000</td>\n",
       "      <td>44065.650000</td>\n",
       "      <td>2012.000000</td>\n",
       "      <td>NaN</td>\n",
       "    </tr>\n",
       "    <tr>\n",
       "      <th>50%</th>\n",
       "      <td>74327.500000</td>\n",
       "      <td>71426.610000</td>\n",
       "      <td>92404.090000</td>\n",
       "      <td>2013.000000</td>\n",
       "      <td>NaN</td>\n",
       "    </tr>\n",
       "    <tr>\n",
       "      <th>75%</th>\n",
       "      <td>111490.750000</td>\n",
       "      <td>105839.135000</td>\n",
       "      <td>132876.450000</td>\n",
       "      <td>2014.000000</td>\n",
       "      <td>NaN</td>\n",
       "    </tr>\n",
       "    <tr>\n",
       "      <th>max</th>\n",
       "      <td>148654.000000</td>\n",
       "      <td>567595.430000</td>\n",
       "      <td>567595.430000</td>\n",
       "      <td>2014.000000</td>\n",
       "      <td>NaN</td>\n",
       "    </tr>\n",
       "  </tbody>\n",
       "</table>\n",
       "</div>"
      ],
      "text/plain": [
       "                  Id       TotalPay  TotalPayBenefits           Year  Notes\n",
       "count  148654.000000  148654.000000     148654.000000  148654.000000    0.0\n",
       "mean    74327.500000   74768.321972      93692.554811    2012.522643    NaN\n",
       "std     42912.857795   50517.005274      62793.533483       1.117538    NaN\n",
       "min         1.000000    -618.130000       -618.130000    2011.000000    NaN\n",
       "25%     37164.250000   36168.995000      44065.650000    2012.000000    NaN\n",
       "50%     74327.500000   71426.610000      92404.090000    2013.000000    NaN\n",
       "75%    111490.750000  105839.135000     132876.450000    2014.000000    NaN\n",
       "max    148654.000000  567595.430000     567595.430000    2014.000000    NaN"
      ]
     },
     "execution_count": 3,
     "metadata": {},
     "output_type": "execute_result"
    }
   ],
   "source": [
    "sal.describe()"
   ]
  },
  {
   "cell_type": "markdown",
   "metadata": {},
   "source": [
    "**Check the head of the DataFrame.**"
   ]
  },
  {
   "cell_type": "code",
   "execution_count": 4,
   "metadata": {},
   "outputs": [
    {
     "data": {
      "text/html": [
       "<div>\n",
       "<style scoped>\n",
       "    .dataframe tbody tr th:only-of-type {\n",
       "        vertical-align: middle;\n",
       "    }\n",
       "\n",
       "    .dataframe tbody tr th {\n",
       "        vertical-align: top;\n",
       "    }\n",
       "\n",
       "    .dataframe thead th {\n",
       "        text-align: right;\n",
       "    }\n",
       "</style>\n",
       "<table border=\"1\" class=\"dataframe\">\n",
       "  <thead>\n",
       "    <tr style=\"text-align: right;\">\n",
       "      <th></th>\n",
       "      <th>Id</th>\n",
       "      <th>EmployeeName</th>\n",
       "      <th>JobTitle</th>\n",
       "      <th>BasePay</th>\n",
       "      <th>OvertimePay</th>\n",
       "      <th>OtherPay</th>\n",
       "      <th>Benefits</th>\n",
       "      <th>TotalPay</th>\n",
       "      <th>TotalPayBenefits</th>\n",
       "      <th>Year</th>\n",
       "      <th>Notes</th>\n",
       "      <th>Agency</th>\n",
       "      <th>Status</th>\n",
       "    </tr>\n",
       "  </thead>\n",
       "  <tbody>\n",
       "    <tr>\n",
       "      <th>0</th>\n",
       "      <td>1</td>\n",
       "      <td>NATHANIEL FORD</td>\n",
       "      <td>GENERAL MANAGER-METROPOLITAN TRANSIT AUTHORITY</td>\n",
       "      <td>167411.18</td>\n",
       "      <td>0.0</td>\n",
       "      <td>400184.25</td>\n",
       "      <td>NaN</td>\n",
       "      <td>567595.43</td>\n",
       "      <td>567595.43</td>\n",
       "      <td>2011</td>\n",
       "      <td>NaN</td>\n",
       "      <td>San Francisco</td>\n",
       "      <td>NaN</td>\n",
       "    </tr>\n",
       "    <tr>\n",
       "      <th>1</th>\n",
       "      <td>2</td>\n",
       "      <td>GARY JIMENEZ</td>\n",
       "      <td>CAPTAIN III (POLICE DEPARTMENT)</td>\n",
       "      <td>155966.02</td>\n",
       "      <td>245131.88</td>\n",
       "      <td>137811.38</td>\n",
       "      <td>NaN</td>\n",
       "      <td>538909.28</td>\n",
       "      <td>538909.28</td>\n",
       "      <td>2011</td>\n",
       "      <td>NaN</td>\n",
       "      <td>San Francisco</td>\n",
       "      <td>NaN</td>\n",
       "    </tr>\n",
       "    <tr>\n",
       "      <th>2</th>\n",
       "      <td>3</td>\n",
       "      <td>ALBERT PARDINI</td>\n",
       "      <td>CAPTAIN III (POLICE DEPARTMENT)</td>\n",
       "      <td>212739.13</td>\n",
       "      <td>106088.18</td>\n",
       "      <td>16452.6</td>\n",
       "      <td>NaN</td>\n",
       "      <td>335279.91</td>\n",
       "      <td>335279.91</td>\n",
       "      <td>2011</td>\n",
       "      <td>NaN</td>\n",
       "      <td>San Francisco</td>\n",
       "      <td>NaN</td>\n",
       "    </tr>\n",
       "    <tr>\n",
       "      <th>3</th>\n",
       "      <td>4</td>\n",
       "      <td>CHRISTOPHER CHONG</td>\n",
       "      <td>WIRE ROPE CABLE MAINTENANCE MECHANIC</td>\n",
       "      <td>77916.0</td>\n",
       "      <td>56120.71</td>\n",
       "      <td>198306.9</td>\n",
       "      <td>NaN</td>\n",
       "      <td>332343.61</td>\n",
       "      <td>332343.61</td>\n",
       "      <td>2011</td>\n",
       "      <td>NaN</td>\n",
       "      <td>San Francisco</td>\n",
       "      <td>NaN</td>\n",
       "    </tr>\n",
       "    <tr>\n",
       "      <th>4</th>\n",
       "      <td>5</td>\n",
       "      <td>PATRICK GARDNER</td>\n",
       "      <td>DEPUTY CHIEF OF DEPARTMENT,(FIRE DEPARTMENT)</td>\n",
       "      <td>134401.6</td>\n",
       "      <td>9737.0</td>\n",
       "      <td>182234.59</td>\n",
       "      <td>NaN</td>\n",
       "      <td>326373.19</td>\n",
       "      <td>326373.19</td>\n",
       "      <td>2011</td>\n",
       "      <td>NaN</td>\n",
       "      <td>San Francisco</td>\n",
       "      <td>NaN</td>\n",
       "    </tr>\n",
       "  </tbody>\n",
       "</table>\n",
       "</div>"
      ],
      "text/plain": [
       "   Id       EmployeeName                                        JobTitle  \\\n",
       "0   1     NATHANIEL FORD  GENERAL MANAGER-METROPOLITAN TRANSIT AUTHORITY   \n",
       "1   2       GARY JIMENEZ                 CAPTAIN III (POLICE DEPARTMENT)   \n",
       "2   3     ALBERT PARDINI                 CAPTAIN III (POLICE DEPARTMENT)   \n",
       "3   4  CHRISTOPHER CHONG            WIRE ROPE CABLE MAINTENANCE MECHANIC   \n",
       "4   5    PATRICK GARDNER    DEPUTY CHIEF OF DEPARTMENT,(FIRE DEPARTMENT)   \n",
       "\n",
       "     BasePay OvertimePay   OtherPay Benefits   TotalPay  TotalPayBenefits  \\\n",
       "0  167411.18         0.0  400184.25      NaN  567595.43         567595.43   \n",
       "1  155966.02   245131.88  137811.38      NaN  538909.28         538909.28   \n",
       "2  212739.13   106088.18    16452.6      NaN  335279.91         335279.91   \n",
       "3    77916.0    56120.71   198306.9      NaN  332343.61         332343.61   \n",
       "4   134401.6      9737.0  182234.59      NaN  326373.19         326373.19   \n",
       "\n",
       "   Year  Notes         Agency Status  \n",
       "0  2011    NaN  San Francisco    NaN  \n",
       "1  2011    NaN  San Francisco    NaN  \n",
       "2  2011    NaN  San Francisco    NaN  \n",
       "3  2011    NaN  San Francisco    NaN  \n",
       "4  2011    NaN  San Francisco    NaN  "
      ]
     },
     "execution_count": 4,
     "metadata": {},
     "output_type": "execute_result"
    }
   ],
   "source": [
    "sal.head()"
   ]
  },
  {
   "cell_type": "code",
   "execution_count": 5,
   "metadata": {},
   "outputs": [
    {
     "data": {
      "text/plain": [
       "Index(['Id', 'EmployeeName', 'JobTitle', 'BasePay', 'OvertimePay', 'OtherPay',\n",
       "       'Benefits', 'TotalPay', 'TotalPayBenefits', 'Year', 'Notes', 'Agency',\n",
       "       'Status'],\n",
       "      dtype='object')"
      ]
     },
     "execution_count": 5,
     "metadata": {},
     "output_type": "execute_result"
    }
   ],
   "source": [
    "#check for columns\n",
    "sal.columns"
   ]
  },
  {
   "cell_type": "code",
   "execution_count": 6,
   "metadata": {},
   "outputs": [
    {
     "name": "stdout",
     "output_type": "stream",
     "text": [
      "<class 'pandas.core.frame.DataFrame'>\n",
      "RangeIndex: 148654 entries, 0 to 148653\n",
      "Data columns (total 13 columns):\n",
      " #   Column            Non-Null Count   Dtype  \n",
      "---  ------            --------------   -----  \n",
      " 0   Id                148654 non-null  int64  \n",
      " 1   EmployeeName      148654 non-null  object \n",
      " 2   JobTitle          148654 non-null  object \n",
      " 3   BasePay           148049 non-null  object \n",
      " 4   OvertimePay       148654 non-null  object \n",
      " 5   OtherPay          148654 non-null  object \n",
      " 6   Benefits          112495 non-null  object \n",
      " 7   TotalPay          148654 non-null  float64\n",
      " 8   TotalPayBenefits  148654 non-null  float64\n",
      " 9   Year              148654 non-null  int64  \n",
      " 10  Notes             0 non-null       float64\n",
      " 11  Agency            148654 non-null  object \n",
      " 12  Status            38119 non-null   object \n",
      "dtypes: float64(3), int64(2), object(8)\n",
      "memory usage: 14.7+ MB\n"
     ]
    }
   ],
   "source": [
    "# get some information \n",
    "sal.info()"
   ]
  },
  {
   "cell_type": "code",
   "execution_count": 7,
   "metadata": {},
   "outputs": [
    {
     "data": {
      "text/plain": [
       "(148654, 13)"
      ]
     },
     "execution_count": 7,
     "metadata": {},
     "output_type": "execute_result"
    }
   ],
   "source": [
    "#number of rows and columns\n",
    "sal.shape"
   ]
  },
  {
   "cell_type": "code",
   "execution_count": 8,
   "metadata": {},
   "outputs": [
    {
     "data": {
      "text/plain": [
       "Id                    int64\n",
       "EmployeeName         object\n",
       "JobTitle             object\n",
       "BasePay              object\n",
       "OvertimePay          object\n",
       "OtherPay             object\n",
       "Benefits             object\n",
       "TotalPay            float64\n",
       "TotalPayBenefits    float64\n",
       "Year                  int64\n",
       "Notes               float64\n",
       "Agency               object\n",
       "Status               object\n",
       "dtype: object"
      ]
     },
     "execution_count": 8,
     "metadata": {},
     "output_type": "execute_result"
    }
   ],
   "source": [
    "# check datatypes\n",
    "sal.dtypes"
   ]
  },
  {
   "cell_type": "code",
   "execution_count": 9,
   "metadata": {},
   "outputs": [
    {
     "data": {
      "text/plain": [
       "Id                       0\n",
       "EmployeeName             0\n",
       "JobTitle                 0\n",
       "BasePay                605\n",
       "OvertimePay              0\n",
       "OtherPay                 0\n",
       "Benefits             36159\n",
       "TotalPay                 0\n",
       "TotalPayBenefits         0\n",
       "Year                     0\n",
       "Notes               148654\n",
       "Agency                   0\n",
       "Status              110535\n",
       "dtype: int64"
      ]
     },
     "execution_count": 9,
     "metadata": {},
     "output_type": "execute_result"
    }
   ],
   "source": [
    "#check for missing values\n",
    "sal.isna().sum()"
   ]
  },
  {
   "cell_type": "code",
   "execution_count": 10,
   "metadata": {},
   "outputs": [
    {
     "data": {
      "text/plain": [
       "Id                    0.000000\n",
       "EmployeeName          0.000000\n",
       "JobTitle              0.000000\n",
       "BasePay               0.406985\n",
       "OvertimePay           0.000000\n",
       "OtherPay              0.000000\n",
       "Benefits             24.324270\n",
       "TotalPay              0.000000\n",
       "TotalPayBenefits      0.000000\n",
       "Year                  0.000000\n",
       "Notes               100.000000\n",
       "Agency                0.000000\n",
       "Status               74.357232\n",
       "dtype: float64"
      ]
     },
     "execution_count": 10,
     "metadata": {},
     "output_type": "execute_result"
    }
   ],
   "source": [
    "(sal.isna().sum()/sal.shape[0])*100"
   ]
  },
  {
   "cell_type": "markdown",
   "metadata": {},
   "source": [
    "# Descriptive Statistics:"
   ]
  },
  {
   "cell_type": "markdown",
   "metadata": {},
   "source": [
    "### Tasks\n",
    "   1. Calculate basic statistics mean, median, mode, minimum, and maximum salary.\n",
    "   2. determine the range of salaries, and find the standard deviation.\n",
    "   "
   ]
  },
  {
   "cell_type": "code",
   "execution_count": 11,
   "metadata": {},
   "outputs": [
    {
     "data": {
      "text/html": [
       "<div>\n",
       "<style scoped>\n",
       "    .dataframe tbody tr th:only-of-type {\n",
       "        vertical-align: middle;\n",
       "    }\n",
       "\n",
       "    .dataframe tbody tr th {\n",
       "        vertical-align: top;\n",
       "    }\n",
       "\n",
       "    .dataframe thead th {\n",
       "        text-align: right;\n",
       "    }\n",
       "</style>\n",
       "<table border=\"1\" class=\"dataframe\">\n",
       "  <thead>\n",
       "    <tr style=\"text-align: right;\">\n",
       "      <th></th>\n",
       "      <th>Id</th>\n",
       "      <th>TotalPay</th>\n",
       "      <th>TotalPayBenefits</th>\n",
       "      <th>Year</th>\n",
       "      <th>Notes</th>\n",
       "    </tr>\n",
       "  </thead>\n",
       "  <tbody>\n",
       "    <tr>\n",
       "      <th>count</th>\n",
       "      <td>148654.000000</td>\n",
       "      <td>148654.000000</td>\n",
       "      <td>148654.000000</td>\n",
       "      <td>148654.000000</td>\n",
       "      <td>0.0</td>\n",
       "    </tr>\n",
       "    <tr>\n",
       "      <th>mean</th>\n",
       "      <td>74327.500000</td>\n",
       "      <td>74768.321972</td>\n",
       "      <td>93692.554811</td>\n",
       "      <td>2012.522643</td>\n",
       "      <td>NaN</td>\n",
       "    </tr>\n",
       "    <tr>\n",
       "      <th>std</th>\n",
       "      <td>42912.857795</td>\n",
       "      <td>50517.005274</td>\n",
       "      <td>62793.533483</td>\n",
       "      <td>1.117538</td>\n",
       "      <td>NaN</td>\n",
       "    </tr>\n",
       "    <tr>\n",
       "      <th>min</th>\n",
       "      <td>1.000000</td>\n",
       "      <td>-618.130000</td>\n",
       "      <td>-618.130000</td>\n",
       "      <td>2011.000000</td>\n",
       "      <td>NaN</td>\n",
       "    </tr>\n",
       "    <tr>\n",
       "      <th>25%</th>\n",
       "      <td>37164.250000</td>\n",
       "      <td>36168.995000</td>\n",
       "      <td>44065.650000</td>\n",
       "      <td>2012.000000</td>\n",
       "      <td>NaN</td>\n",
       "    </tr>\n",
       "    <tr>\n",
       "      <th>50%</th>\n",
       "      <td>74327.500000</td>\n",
       "      <td>71426.610000</td>\n",
       "      <td>92404.090000</td>\n",
       "      <td>2013.000000</td>\n",
       "      <td>NaN</td>\n",
       "    </tr>\n",
       "    <tr>\n",
       "      <th>75%</th>\n",
       "      <td>111490.750000</td>\n",
       "      <td>105839.135000</td>\n",
       "      <td>132876.450000</td>\n",
       "      <td>2014.000000</td>\n",
       "      <td>NaN</td>\n",
       "    </tr>\n",
       "    <tr>\n",
       "      <th>max</th>\n",
       "      <td>148654.000000</td>\n",
       "      <td>567595.430000</td>\n",
       "      <td>567595.430000</td>\n",
       "      <td>2014.000000</td>\n",
       "      <td>NaN</td>\n",
       "    </tr>\n",
       "  </tbody>\n",
       "</table>\n",
       "</div>"
      ],
      "text/plain": [
       "                  Id       TotalPay  TotalPayBenefits           Year  Notes\n",
       "count  148654.000000  148654.000000     148654.000000  148654.000000    0.0\n",
       "mean    74327.500000   74768.321972      93692.554811    2012.522643    NaN\n",
       "std     42912.857795   50517.005274      62793.533483       1.117538    NaN\n",
       "min         1.000000    -618.130000       -618.130000    2011.000000    NaN\n",
       "25%     37164.250000   36168.995000      44065.650000    2012.000000    NaN\n",
       "50%     74327.500000   71426.610000      92404.090000    2013.000000    NaN\n",
       "75%    111490.750000  105839.135000     132876.450000    2014.000000    NaN\n",
       "max    148654.000000  567595.430000     567595.430000    2014.000000    NaN"
      ]
     },
     "execution_count": 11,
     "metadata": {},
     "output_type": "execute_result"
    }
   ],
   "source": [
    "#check for statistics information\n",
    "sal.describe()"
   ]
  },
  {
   "cell_type": "code",
   "execution_count": 12,
   "metadata": {},
   "outputs": [
    {
     "data": {
      "text/plain": [
       "568213.56"
      ]
     },
     "execution_count": 12,
     "metadata": {},
     "output_type": "execute_result"
    }
   ],
   "source": [
    "#determine the range of salaries\n",
    "range=sal['TotalPayBenefits'].max()-sal['TotalPayBenefits'].min()\n",
    "range"
   ]
  },
  {
   "cell_type": "code",
   "execution_count": 13,
   "metadata": {},
   "outputs": [
    {
     "data": {
      "text/plain": [
       "62793.53348323814"
      ]
     },
     "execution_count": 13,
     "metadata": {},
     "output_type": "execute_result"
    }
   ],
   "source": [
    "# check for std \n",
    "sal['TotalPayBenefits'].describe()['std']"
   ]
  },
  {
   "cell_type": "markdown",
   "metadata": {},
   "source": [
    "# Data Cleaning\n",
    "  1. handle the missing values if their percentage less than 40% otherwise we will delete it because it will misleading the data if we handle it\n"
   ]
  },
  {
   "cell_type": "code",
   "execution_count": 14,
   "metadata": {},
   "outputs": [
    {
     "data": {
      "text/plain": [
       "Id                    0.000000\n",
       "EmployeeName          0.000000\n",
       "JobTitle              0.000000\n",
       "BasePay               0.406985\n",
       "OvertimePay           0.000000\n",
       "OtherPay              0.000000\n",
       "Benefits             24.324270\n",
       "TotalPay              0.000000\n",
       "TotalPayBenefits      0.000000\n",
       "Year                  0.000000\n",
       "Notes               100.000000\n",
       "Agency                0.000000\n",
       "Status               74.357232\n",
       "dtype: float64"
      ]
     },
     "execution_count": 14,
     "metadata": {},
     "output_type": "execute_result"
    }
   ],
   "source": [
    "sal.isnull().sum()/sal.shape[0] *100"
   ]
  },
  {
   "cell_type": "code",
   "execution_count": 15,
   "metadata": {},
   "outputs": [],
   "source": [
    "sal=sal.drop(['Status','Notes'],axis=1)"
   ]
  },
  {
   "cell_type": "code",
   "execution_count": 16,
   "metadata": {},
   "outputs": [
    {
     "data": {
      "text/plain": [
       "array([167411.18, 155966.02, 212739.13, ..., '6.04', '15.50',\n",
       "       'Not Provided'], dtype=object)"
      ]
     },
     "execution_count": 16,
     "metadata": {},
     "output_type": "execute_result"
    }
   ],
   "source": [
    "#change the datatype first then we fill the missing values either by mean or media\n",
    "sal['BasePay'].unique()"
   ]
  },
  {
   "cell_type": "code",
   "execution_count": 17,
   "metadata": {},
   "outputs": [
    {
     "name": "stdout",
     "output_type": "stream",
     "text": [
      "<class 'pandas.core.frame.DataFrame'>\n",
      "RangeIndex: 148654 entries, 0 to 148653\n",
      "Data columns (total 11 columns):\n",
      " #   Column            Non-Null Count   Dtype  \n",
      "---  ------            --------------   -----  \n",
      " 0   Id                148654 non-null  int64  \n",
      " 1   EmployeeName      148654 non-null  object \n",
      " 2   JobTitle          148654 non-null  object \n",
      " 3   BasePay           148045 non-null  float64\n",
      " 4   OvertimePay       148654 non-null  object \n",
      " 5   OtherPay          148654 non-null  object \n",
      " 6   Benefits          112495 non-null  object \n",
      " 7   TotalPay          148654 non-null  float64\n",
      " 8   TotalPayBenefits  148654 non-null  float64\n",
      " 9   Year              148654 non-null  int64  \n",
      " 10  Agency            148654 non-null  object \n",
      "dtypes: float64(3), int64(2), object(6)\n",
      "memory usage: 12.5+ MB\n"
     ]
    }
   ],
   "source": [
    "#change the datatype\n",
    "sal['BasePay']=pd.to_numeric(sal['BasePay'],errors='coerce')\n",
    "sal.info()\n"
   ]
  },
  {
   "cell_type": "code",
   "execution_count": 18,
   "metadata": {},
   "outputs": [],
   "source": [
    "sal['OvertimePay']=pd.to_numeric(sal['OvertimePay'],errors='coerce')"
   ]
  },
  {
   "cell_type": "code",
   "execution_count": 19,
   "metadata": {},
   "outputs": [],
   "source": [
    "sal['OvertimePay']=sal['OvertimePay'].fillna(sal['OvertimePay'].mean())"
   ]
  },
  {
   "cell_type": "code",
   "execution_count": 20,
   "metadata": {},
   "outputs": [
    {
     "data": {
      "text/plain": [
       "0"
      ]
     },
     "execution_count": 20,
     "metadata": {},
     "output_type": "execute_result"
    }
   ],
   "source": [
    "sal['OvertimePay'].isnull().sum()"
   ]
  },
  {
   "cell_type": "code",
   "execution_count": 21,
   "metadata": {},
   "outputs": [],
   "source": [
    "#fill missing values with mean\n",
    "sal['BasePay']=sal['BasePay'].fillna(sal['BasePay'].mean())"
   ]
  },
  {
   "cell_type": "code",
   "execution_count": 22,
   "metadata": {},
   "outputs": [
    {
     "data": {
      "text/plain": [
       "0"
      ]
     },
     "execution_count": 22,
     "metadata": {},
     "output_type": "execute_result"
    }
   ],
   "source": [
    "sal['BasePay'].isnull().sum()"
   ]
  },
  {
   "cell_type": "code",
   "execution_count": 23,
   "metadata": {},
   "outputs": [
    {
     "data": {
      "text/plain": [
       "array([nan, 44430.12, 69810.19, ..., '0.13', '1.24', 'Not Provided'],\n",
       "      dtype=object)"
      ]
     },
     "execution_count": 23,
     "metadata": {},
     "output_type": "execute_result"
    }
   ],
   "source": [
    "sal['Benefits'].unique()"
   ]
  },
  {
   "cell_type": "code",
   "execution_count": 24,
   "metadata": {},
   "outputs": [
    {
     "name": "stdout",
     "output_type": "stream",
     "text": [
      "<class 'pandas.core.frame.DataFrame'>\n",
      "RangeIndex: 148654 entries, 0 to 148653\n",
      "Data columns (total 11 columns):\n",
      " #   Column            Non-Null Count   Dtype  \n",
      "---  ------            --------------   -----  \n",
      " 0   Id                148654 non-null  int64  \n",
      " 1   EmployeeName      148654 non-null  object \n",
      " 2   JobTitle          148654 non-null  object \n",
      " 3   BasePay           148654 non-null  float64\n",
      " 4   OvertimePay       148654 non-null  float64\n",
      " 5   OtherPay          148654 non-null  object \n",
      " 6   Benefits          112491 non-null  float64\n",
      " 7   TotalPay          148654 non-null  float64\n",
      " 8   TotalPayBenefits  148654 non-null  float64\n",
      " 9   Year              148654 non-null  int64  \n",
      " 10  Agency            148654 non-null  object \n",
      "dtypes: float64(5), int64(2), object(4)\n",
      "memory usage: 12.5+ MB\n"
     ]
    }
   ],
   "source": [
    "sal['Benefits']=pd.to_numeric(sal['Benefits'],errors='coerce')\n",
    "sal.info()"
   ]
  },
  {
   "cell_type": "code",
   "execution_count": 25,
   "metadata": {},
   "outputs": [],
   "source": [
    "sal['Benefits']=sal['Benefits'].fillna(sal['Benefits'].mean())"
   ]
  },
  {
   "cell_type": "code",
   "execution_count": 26,
   "metadata": {},
   "outputs": [
    {
     "data": {
      "text/plain": [
       "0"
      ]
     },
     "execution_count": 26,
     "metadata": {},
     "output_type": "execute_result"
    }
   ],
   "source": [
    "sal['Benefits'].isnull().sum()"
   ]
  },
  {
   "cell_type": "markdown",
   "metadata": {},
   "source": [
    "# Data Visualization"
   ]
  },
  {
   "cell_type": "code",
   "execution_count": 27,
   "metadata": {},
   "outputs": [
    {
     "data": {
      "text/plain": [
       "Text(0.5, 1.0, 'distribution of Salaries')"
      ]
     },
     "execution_count": 27,
     "metadata": {},
     "output_type": "execute_result"
    },
    {
     "data": {
      "image/png": "[encoded data removed]",
      "text/plain": [
       "<Figure size 432x288 with 1 Axes>"
      ]
     },
     "metadata": {},
     "output_type": "display_data"
    }
   ],
   "source": [
    "sns.set_theme()\n",
    "sns.histplot(data=sal,x='TotalPayBenefits',bins=50)\n",
    "plt.xlim(left=0, right=sal['TotalPayBenefits'].max())\n",
    "plt.title('distribution of Salaries')"
   ]
  },
  {
   "cell_type": "markdown",
   "metadata": {},
   "source": [
    "1. **use pie chart to identify the most common jobs and contains more employees**"
   ]
  },
  {
   "cell_type": "code",
   "execution_count": 28,
   "metadata": {},
   "outputs": [
    {
     "data": {
      "text/plain": [
       "Transit Operator                7036\n",
       "Special Nurse                   4389\n",
       "Registered Nurse                3736\n",
       "Public Svc Aide-Public Works    2518\n",
       "Police Officer 3                2421\n",
       "Name: JobTitle, dtype: int64"
      ]
     },
     "execution_count": 28,
     "metadata": {},
     "output_type": "execute_result"
    }
   ],
   "source": [
    "top_5_jobs=sal['JobTitle'].value_counts().head()\n",
    "top_5_jobs"
   ]
  },
  {
   "cell_type": "code",
   "execution_count": 29,
   "metadata": {},
   "outputs": [
    {
     "data": {
      "image/png": "[encoded data removed]",
      "text/plain": [
       "<Figure size 1080x576 with 1 Axes>"
      ]
     },
     "metadata": {},
     "output_type": "display_data"
    }
   ],
   "source": [
    "plt.figure(figsize=(15, 8))\n",
    "plt.pie(top_5_jobs[:5], labels=top_5_jobs.index[:5], autopct='%1.1f%%', startangle=140)\n",
    "plt.title('Distribution of Job Titles ')\n",
    "plt.show()"
   ]
  },
  {
   "cell_type": "markdown",
   "metadata": {},
   "source": [
    "## Analysis"
   ]
  },
  {
   "cell_type": "code",
   "execution_count": 30,
   "metadata": {},
   "outputs": [
    {
     "name": "stderr",
     "output_type": "stream",
     "text": [
      "C:\\Users\\manar\\AppData\\Local\\Temp\\ipykernel_27432\\647223546.py:2: FutureWarning: ['EmployeeName', 'JobTitle', 'OtherPay', 'Agency'] did not aggregate successfully. If any error is raised this will raise in a future version of pandas. Drop these columns/ops to avoid this warning.\n",
      "  grouped_data=sal.groupby(['Year']).agg(['count', 'mean', 'min', 'max'])\n"
     ]
    },
    {
     "data": {
      "text/html": [
       "<div>\n",
       "<style scoped>\n",
       "    .dataframe tbody tr th:only-of-type {\n",
       "        vertical-align: middle;\n",
       "    }\n",
       "\n",
       "    .dataframe tbody tr th {\n",
       "        vertical-align: top;\n",
       "    }\n",
       "\n",
       "    .dataframe thead tr th {\n",
       "        text-align: left;\n",
       "    }\n",
       "\n",
       "    .dataframe thead tr:last-of-type th {\n",
       "        text-align: right;\n",
       "    }\n",
       "</style>\n",
       "<table border=\"1\" class=\"dataframe\">\n",
       "  <thead>\n",
       "    <tr>\n",
       "      <th></th>\n",
       "      <th colspan=\"4\" halign=\"left\">Id</th>\n",
       "      <th colspan=\"4\" halign=\"left\">BasePay</th>\n",
       "      <th colspan=\"2\" halign=\"left\">OvertimePay</th>\n",
       "      <th>...</th>\n",
       "      <th colspan=\"2\" halign=\"left\">Benefits</th>\n",
       "      <th colspan=\"4\" halign=\"left\">TotalPay</th>\n",
       "      <th colspan=\"4\" halign=\"left\">TotalPayBenefits</th>\n",
       "    </tr>\n",
       "    <tr>\n",
       "      <th></th>\n",
       "      <th>count</th>\n",
       "      <th>mean</th>\n",
       "      <th>min</th>\n",
       "      <th>max</th>\n",
       "      <th>count</th>\n",
       "      <th>mean</th>\n",
       "      <th>min</th>\n",
       "      <th>max</th>\n",
       "      <th>count</th>\n",
       "      <th>mean</th>\n",
       "      <th>...</th>\n",
       "      <th>min</th>\n",
       "      <th>max</th>\n",
       "      <th>count</th>\n",
       "      <th>mean</th>\n",
       "      <th>min</th>\n",
       "      <th>max</th>\n",
       "      <th>count</th>\n",
       "      <th>mean</th>\n",
       "      <th>min</th>\n",
       "      <th>max</th>\n",
       "    </tr>\n",
       "    <tr>\n",
       "      <th>Year</th>\n",
       "      <th></th>\n",
       "      <th></th>\n",
       "      <th></th>\n",
       "      <th></th>\n",
       "      <th></th>\n",
       "      <th></th>\n",
       "      <th></th>\n",
       "      <th></th>\n",
       "      <th></th>\n",
       "      <th></th>\n",
       "      <th></th>\n",
       "      <th></th>\n",
       "      <th></th>\n",
       "      <th></th>\n",
       "      <th></th>\n",
       "      <th></th>\n",
       "      <th></th>\n",
       "      <th></th>\n",
       "      <th></th>\n",
       "      <th></th>\n",
       "      <th></th>\n",
       "    </tr>\n",
       "  </thead>\n",
       "  <tbody>\n",
       "    <tr>\n",
       "      <th>2011</th>\n",
       "      <td>36159</td>\n",
       "      <td>18080.0</td>\n",
       "      <td>1</td>\n",
       "      <td>36159</td>\n",
       "      <td>36159</td>\n",
       "      <td>63595.956517</td>\n",
       "      <td>0.00</td>\n",
       "      <td>294580.02</td>\n",
       "      <td>36159</td>\n",
       "      <td>4531.065429</td>\n",
       "      <td>...</td>\n",
       "      <td>25007.893151</td>\n",
       "      <td>25007.893151</td>\n",
       "      <td>36159</td>\n",
       "      <td>71744.103871</td>\n",
       "      <td>0.00</td>\n",
       "      <td>567595.43</td>\n",
       "      <td>36159</td>\n",
       "      <td>71744.103871</td>\n",
       "      <td>0.00</td>\n",
       "      <td>567595.43</td>\n",
       "    </tr>\n",
       "    <tr>\n",
       "      <th>2012</th>\n",
       "      <td>36766</td>\n",
       "      <td>54542.5</td>\n",
       "      <td>36160</td>\n",
       "      <td>72925</td>\n",
       "      <td>36766</td>\n",
       "      <td>65436.406857</td>\n",
       "      <td>-166.01</td>\n",
       "      <td>302578.00</td>\n",
       "      <td>36766</td>\n",
       "      <td>5023.417824</td>\n",
       "      <td>...</td>\n",
       "      <td>0.000000</td>\n",
       "      <td>84681.820000</td>\n",
       "      <td>36766</td>\n",
       "      <td>74113.262265</td>\n",
       "      <td>0.00</td>\n",
       "      <td>362844.66</td>\n",
       "      <td>36766</td>\n",
       "      <td>100553.229232</td>\n",
       "      <td>1.91</td>\n",
       "      <td>407274.78</td>\n",
       "    </tr>\n",
       "    <tr>\n",
       "      <th>2013</th>\n",
       "      <td>37606</td>\n",
       "      <td>91728.5</td>\n",
       "      <td>72926</td>\n",
       "      <td>110531</td>\n",
       "      <td>37606</td>\n",
       "      <td>69576.866579</td>\n",
       "      <td>15.83</td>\n",
       "      <td>319275.01</td>\n",
       "      <td>37606</td>\n",
       "      <td>5281.641980</td>\n",
       "      <td>...</td>\n",
       "      <td>-33.890000</td>\n",
       "      <td>86533.210000</td>\n",
       "      <td>37606</td>\n",
       "      <td>77611.443142</td>\n",
       "      <td>0.00</td>\n",
       "      <td>347102.32</td>\n",
       "      <td>37606</td>\n",
       "      <td>101440.519714</td>\n",
       "      <td>-33.89</td>\n",
       "      <td>425815.28</td>\n",
       "    </tr>\n",
       "    <tr>\n",
       "      <th>2014</th>\n",
       "      <td>38123</td>\n",
       "      <td>129593.0</td>\n",
       "      <td>110532</td>\n",
       "      <td>148654</td>\n",
       "      <td>38123</td>\n",
       "      <td>66564.396851</td>\n",
       "      <td>0.00</td>\n",
       "      <td>318835.49</td>\n",
       "      <td>38123</td>\n",
       "      <td>5401.958490</td>\n",
       "      <td>...</td>\n",
       "      <td>-13.800000</td>\n",
       "      <td>96570.660000</td>\n",
       "      <td>38123</td>\n",
       "      <td>75463.918140</td>\n",
       "      <td>-618.13</td>\n",
       "      <td>471952.64</td>\n",
       "      <td>38123</td>\n",
       "      <td>100250.918884</td>\n",
       "      <td>-618.13</td>\n",
       "      <td>510732.68</td>\n",
       "    </tr>\n",
       "  </tbody>\n",
       "</table>\n",
       "<p>4 rows × 24 columns</p>\n",
       "</div>"
      ],
      "text/plain": [
       "         Id                           BasePay                        \\\n",
       "      count      mean     min     max   count          mean     min   \n",
       "Year                                                                  \n",
       "2011  36159   18080.0       1   36159   36159  63595.956517    0.00   \n",
       "2012  36766   54542.5   36160   72925   36766  65436.406857 -166.01   \n",
       "2013  37606   91728.5   72926  110531   37606  69576.866579   15.83   \n",
       "2014  38123  129593.0  110532  148654   38123  66564.396851    0.00   \n",
       "\n",
       "                OvertimePay               ...      Benefits                \\\n",
       "            max       count         mean  ...           min           max   \n",
       "Year                                      ...                               \n",
       "2011  294580.02       36159  4531.065429  ...  25007.893151  25007.893151   \n",
       "2012  302578.00       36766  5023.417824  ...      0.000000  84681.820000   \n",
       "2013  319275.01       37606  5281.641980  ...    -33.890000  86533.210000   \n",
       "2014  318835.49       38123  5401.958490  ...    -13.800000  96570.660000   \n",
       "\n",
       "     TotalPay                                  TotalPayBenefits  \\\n",
       "        count          mean     min        max            count   \n",
       "Year                                                              \n",
       "2011    36159  71744.103871    0.00  567595.43            36159   \n",
       "2012    36766  74113.262265    0.00  362844.66            36766   \n",
       "2013    37606  77611.443142    0.00  347102.32            37606   \n",
       "2014    38123  75463.918140 -618.13  471952.64            38123   \n",
       "\n",
       "                                        \n",
       "               mean     min        max  \n",
       "Year                                    \n",
       "2011   71744.103871    0.00  567595.43  \n",
       "2012  100553.229232    1.91  407274.78  \n",
       "2013  101440.519714  -33.89  425815.28  \n",
       "2014  100250.918884 -618.13  510732.68  \n",
       "\n",
       "[4 rows x 24 columns]"
      ]
     },
     "execution_count": 30,
     "metadata": {},
     "output_type": "execute_result"
    }
   ],
   "source": [
    "#group the data for each year\n",
    "grouped_data=sal.groupby(['Year']).agg(['count', 'mean', 'min', 'max'])\n",
    "grouped_data"
   ]
  },
  {
   "cell_type": "code",
   "execution_count": 31,
   "metadata": {},
   "outputs": [
    {
     "data": {
      "text/plain": [
       "Text(0.5, 1.0, 'Avarege of Salaries for each year')"
      ]
     },
     "execution_count": 31,
     "metadata": {},
     "output_type": "execute_result"
    },
    {
     "data": {
      "image/png": "[encoded data removed]",
      "text/plain": [
       "<Figure size 432x288 with 1 Axes>"
      ]
     },
     "metadata": {},
     "output_type": "display_data"
    }
   ],
   "source": [
    "#average salaries for each group\n",
    "avg_salaries=grouped_data['TotalPayBenefits']['mean']\n",
    "#avg_salaries.plot(kind='bar')\n",
    "plt.xticks(avg_salaries.index)\n",
    "plt.plot(avg_salaries.index,avg_salaries.values)\n",
    "plt.title('Avarege of Salaries for each year')"
   ]
  },
  {
   "cell_type": "code",
   "execution_count": 32,
   "metadata": {},
   "outputs": [
    {
     "data": {
      "text/plain": [
       "Year\n",
       "2014    38123\n",
       "2013    37606\n",
       "2012    36766\n",
       "2011    36159\n",
       "Name: count, dtype: int64"
      ]
     },
     "execution_count": 32,
     "metadata": {},
     "output_type": "execute_result"
    }
   ],
   "source": [
    "# the year has highest number of employees\n",
    "highest_year=grouped_data['Id']['count'].sort_values(ascending=False).head()\n",
    "highest_year"
   ]
  },
  {
   "cell_type": "code",
   "execution_count": 33,
   "metadata": {},
   "outputs": [
    {
     "data": {
      "image/png": "[encoded data removed]",
      "text/plain": [
       "<Figure size 720x288 with 1 Axes>"
      ]
     },
     "metadata": {},
     "output_type": "display_data"
    }
   ],
   "source": [
    "plt.figure(figsize=(10, 4))\n",
    "plt.pie(highest_year.values, labels=highest_year.index, autopct='%1.1f%%', startangle=140)\n",
    "plt.title('distribution of employees over year ')\n",
    "plt.show()"
   ]
  },
  {
   "cell_type": "code",
   "execution_count": 34,
   "metadata": {
    "scrolled": true
   },
   "outputs": [
    {
     "name": "stderr",
     "output_type": "stream",
     "text": [
      "C:\\Users\\manar\\AppData\\Local\\Temp\\ipykernel_27432\\354369394.py:2: FutureWarning: ['EmployeeName', 'OtherPay', 'Agency'] did not aggregate successfully. If any error is raised this will raise in a future version of pandas. Drop these columns/ops to avoid this warning.\n",
      "  grouped_data=sal.groupby(['JobTitle']).agg(['count', 'mean', 'min', 'max'])\n"
     ]
    },
    {
     "data": {
      "text/html": [
       "<div>\n",
       "<style scoped>\n",
       "    .dataframe tbody tr th:only-of-type {\n",
       "        vertical-align: middle;\n",
       "    }\n",
       "\n",
       "    .dataframe tbody tr th {\n",
       "        vertical-align: top;\n",
       "    }\n",
       "\n",
       "    .dataframe thead tr th {\n",
       "        text-align: left;\n",
       "    }\n",
       "\n",
       "    .dataframe thead tr:last-of-type th {\n",
       "        text-align: right;\n",
       "    }\n",
       "</style>\n",
       "<table border=\"1\" class=\"dataframe\">\n",
       "  <thead>\n",
       "    <tr>\n",
       "      <th></th>\n",
       "      <th colspan=\"4\" halign=\"left\">Id</th>\n",
       "      <th colspan=\"4\" halign=\"left\">BasePay</th>\n",
       "      <th colspan=\"2\" halign=\"left\">OvertimePay</th>\n",
       "      <th>...</th>\n",
       "      <th colspan=\"2\" halign=\"left\">TotalPay</th>\n",
       "      <th colspan=\"4\" halign=\"left\">TotalPayBenefits</th>\n",
       "      <th colspan=\"4\" halign=\"left\">Year</th>\n",
       "    </tr>\n",
       "    <tr>\n",
       "      <th></th>\n",
       "      <th>count</th>\n",
       "      <th>mean</th>\n",
       "      <th>min</th>\n",
       "      <th>max</th>\n",
       "      <th>count</th>\n",
       "      <th>mean</th>\n",
       "      <th>min</th>\n",
       "      <th>max</th>\n",
       "      <th>count</th>\n",
       "      <th>mean</th>\n",
       "      <th>...</th>\n",
       "      <th>min</th>\n",
       "      <th>max</th>\n",
       "      <th>count</th>\n",
       "      <th>mean</th>\n",
       "      <th>min</th>\n",
       "      <th>max</th>\n",
       "      <th>count</th>\n",
       "      <th>mean</th>\n",
       "      <th>min</th>\n",
       "      <th>max</th>\n",
       "    </tr>\n",
       "    <tr>\n",
       "      <th>JobTitle</th>\n",
       "      <th></th>\n",
       "      <th></th>\n",
       "      <th></th>\n",
       "      <th></th>\n",
       "      <th></th>\n",
       "      <th></th>\n",
       "      <th></th>\n",
       "      <th></th>\n",
       "      <th></th>\n",
       "      <th></th>\n",
       "      <th></th>\n",
       "      <th></th>\n",
       "      <th></th>\n",
       "      <th></th>\n",
       "      <th></th>\n",
       "      <th></th>\n",
       "      <th></th>\n",
       "      <th></th>\n",
       "      <th></th>\n",
       "      <th></th>\n",
       "      <th></th>\n",
       "    </tr>\n",
       "  </thead>\n",
       "  <tbody>\n",
       "    <tr>\n",
       "      <th>ACCOUNT CLERK</th>\n",
       "      <td>83</td>\n",
       "      <td>25734.819277</td>\n",
       "      <td>20766</td>\n",
       "      <td>35638</td>\n",
       "      <td>83</td>\n",
       "      <td>43300.806506</td>\n",
       "      <td>614.00</td>\n",
       "      <td>60838.20</td>\n",
       "      <td>83</td>\n",
       "      <td>373.200843</td>\n",
       "      <td>...</td>\n",
       "      <td>614.00</td>\n",
       "      <td>60838.20</td>\n",
       "      <td>83</td>\n",
       "      <td>44035.664337</td>\n",
       "      <td>614.00</td>\n",
       "      <td>60838.20</td>\n",
       "      <td>83</td>\n",
       "      <td>2011.00</td>\n",
       "      <td>2011</td>\n",
       "      <td>2011</td>\n",
       "    </tr>\n",
       "    <tr>\n",
       "      <th>ACCOUNTANT</th>\n",
       "      <td>5</td>\n",
       "      <td>24159.200000</td>\n",
       "      <td>19264</td>\n",
       "      <td>35286</td>\n",
       "      <td>5</td>\n",
       "      <td>46643.172000</td>\n",
       "      <td>0.00</td>\n",
       "      <td>65392.01</td>\n",
       "      <td>5</td>\n",
       "      <td>0.000000</td>\n",
       "      <td>...</td>\n",
       "      <td>1148.40</td>\n",
       "      <td>65392.01</td>\n",
       "      <td>5</td>\n",
       "      <td>47429.268000</td>\n",
       "      <td>1148.40</td>\n",
       "      <td>65392.01</td>\n",
       "      <td>5</td>\n",
       "      <td>2011.00</td>\n",
       "      <td>2011</td>\n",
       "      <td>2011</td>\n",
       "    </tr>\n",
       "    <tr>\n",
       "      <th>ACCOUNTANT INTERN</th>\n",
       "      <td>48</td>\n",
       "      <td>28128.833333</td>\n",
       "      <td>21536</td>\n",
       "      <td>34267</td>\n",
       "      <td>48</td>\n",
       "      <td>28732.663958</td>\n",
       "      <td>2981.53</td>\n",
       "      <td>58501.72</td>\n",
       "      <td>48</td>\n",
       "      <td>24.430625</td>\n",
       "      <td>...</td>\n",
       "      <td>2981.53</td>\n",
       "      <td>58799.53</td>\n",
       "      <td>48</td>\n",
       "      <td>29031.742917</td>\n",
       "      <td>2981.53</td>\n",
       "      <td>58799.53</td>\n",
       "      <td>48</td>\n",
       "      <td>2011.00</td>\n",
       "      <td>2011</td>\n",
       "      <td>2011</td>\n",
       "    </tr>\n",
       "    <tr>\n",
       "      <th>ACPO,JuvP, Juv Prob (SFERS)</th>\n",
       "      <td>1</td>\n",
       "      <td>135284.000000</td>\n",
       "      <td>135284</td>\n",
       "      <td>135284</td>\n",
       "      <td>1</td>\n",
       "      <td>62290.780000</td>\n",
       "      <td>62290.78</td>\n",
       "      <td>62290.78</td>\n",
       "      <td>1</td>\n",
       "      <td>0.000000</td>\n",
       "      <td>...</td>\n",
       "      <td>62290.78</td>\n",
       "      <td>62290.78</td>\n",
       "      <td>1</td>\n",
       "      <td>80266.370000</td>\n",
       "      <td>80266.37</td>\n",
       "      <td>80266.37</td>\n",
       "      <td>1</td>\n",
       "      <td>2014.00</td>\n",
       "      <td>2014</td>\n",
       "      <td>2014</td>\n",
       "    </tr>\n",
       "    <tr>\n",
       "      <th>ACUPUNCTURIST</th>\n",
       "      <td>1</td>\n",
       "      <td>18379.000000</td>\n",
       "      <td>18379</td>\n",
       "      <td>18379</td>\n",
       "      <td>1</td>\n",
       "      <td>66374.400000</td>\n",
       "      <td>66374.40</td>\n",
       "      <td>66374.40</td>\n",
       "      <td>1</td>\n",
       "      <td>0.000000</td>\n",
       "      <td>...</td>\n",
       "      <td>67594.40</td>\n",
       "      <td>67594.40</td>\n",
       "      <td>1</td>\n",
       "      <td>67594.400000</td>\n",
       "      <td>67594.40</td>\n",
       "      <td>67594.40</td>\n",
       "      <td>1</td>\n",
       "      <td>2011.00</td>\n",
       "      <td>2011</td>\n",
       "      <td>2011</td>\n",
       "    </tr>\n",
       "    <tr>\n",
       "      <th>...</th>\n",
       "      <td>...</td>\n",
       "      <td>...</td>\n",
       "      <td>...</td>\n",
       "      <td>...</td>\n",
       "      <td>...</td>\n",
       "      <td>...</td>\n",
       "      <td>...</td>\n",
       "      <td>...</td>\n",
       "      <td>...</td>\n",
       "      <td>...</td>\n",
       "      <td>...</td>\n",
       "      <td>...</td>\n",
       "      <td>...</td>\n",
       "      <td>...</td>\n",
       "      <td>...</td>\n",
       "      <td>...</td>\n",
       "      <td>...</td>\n",
       "      <td>...</td>\n",
       "      <td>...</td>\n",
       "      <td>...</td>\n",
       "      <td>...</td>\n",
       "    </tr>\n",
       "    <tr>\n",
       "      <th>X-RAY LABORATORY AIDE</th>\n",
       "      <td>26</td>\n",
       "      <td>22502.076923</td>\n",
       "      <td>12940</td>\n",
       "      <td>33182</td>\n",
       "      <td>26</td>\n",
       "      <td>47664.773077</td>\n",
       "      <td>4690.68</td>\n",
       "      <td>60086.62</td>\n",
       "      <td>26</td>\n",
       "      <td>3571.223462</td>\n",
       "      <td>...</td>\n",
       "      <td>5343.69</td>\n",
       "      <td>85077.40</td>\n",
       "      <td>26</td>\n",
       "      <td>52705.880385</td>\n",
       "      <td>5343.69</td>\n",
       "      <td>85077.40</td>\n",
       "      <td>26</td>\n",
       "      <td>2011.00</td>\n",
       "      <td>2011</td>\n",
       "      <td>2011</td>\n",
       "    </tr>\n",
       "    <tr>\n",
       "      <th>X-Ray Laboratory Aide</th>\n",
       "      <td>100</td>\n",
       "      <td>98890.620000</td>\n",
       "      <td>49777</td>\n",
       "      <td>143632</td>\n",
       "      <td>100</td>\n",
       "      <td>46086.387100</td>\n",
       "      <td>1007.00</td>\n",
       "      <td>66123.01</td>\n",
       "      <td>100</td>\n",
       "      <td>3483.767100</td>\n",
       "      <td>...</td>\n",
       "      <td>1007.00</td>\n",
       "      <td>99812.97</td>\n",
       "      <td>100</td>\n",
       "      <td>69521.123200</td>\n",
       "      <td>1017.07</td>\n",
       "      <td>129044.16</td>\n",
       "      <td>100</td>\n",
       "      <td>2013.04</td>\n",
       "      <td>2012</td>\n",
       "      <td>2014</td>\n",
       "    </tr>\n",
       "    <tr>\n",
       "      <th>YOUTH COMMISSION ADVISOR, BOARD OF SUPERVISORS</th>\n",
       "      <td>1</td>\n",
       "      <td>23392.000000</td>\n",
       "      <td>23392</td>\n",
       "      <td>23392</td>\n",
       "      <td>1</td>\n",
       "      <td>52609.910000</td>\n",
       "      <td>52609.91</td>\n",
       "      <td>52609.91</td>\n",
       "      <td>1</td>\n",
       "      <td>0.000000</td>\n",
       "      <td>...</td>\n",
       "      <td>53632.87</td>\n",
       "      <td>53632.87</td>\n",
       "      <td>1</td>\n",
       "      <td>53632.870000</td>\n",
       "      <td>53632.87</td>\n",
       "      <td>53632.87</td>\n",
       "      <td>1</td>\n",
       "      <td>2011.00</td>\n",
       "      <td>2011</td>\n",
       "      <td>2011</td>\n",
       "    </tr>\n",
       "    <tr>\n",
       "      <th>Youth Comm Advisor</th>\n",
       "      <td>4</td>\n",
       "      <td>99677.750000</td>\n",
       "      <td>58843</td>\n",
       "      <td>138459</td>\n",
       "      <td>4</td>\n",
       "      <td>39077.957500</td>\n",
       "      <td>13915.80</td>\n",
       "      <td>57544.73</td>\n",
       "      <td>4</td>\n",
       "      <td>0.000000</td>\n",
       "      <td>...</td>\n",
       "      <td>19212.71</td>\n",
       "      <td>57544.73</td>\n",
       "      <td>4</td>\n",
       "      <td>60118.550000</td>\n",
       "      <td>24957.24</td>\n",
       "      <td>85774.39</td>\n",
       "      <td>4</td>\n",
       "      <td>2013.00</td>\n",
       "      <td>2012</td>\n",
       "      <td>2014</td>\n",
       "    </tr>\n",
       "    <tr>\n",
       "      <th>ZOO CURATOR</th>\n",
       "      <td>1</td>\n",
       "      <td>18779.000000</td>\n",
       "      <td>18779</td>\n",
       "      <td>18779</td>\n",
       "      <td>1</td>\n",
       "      <td>43148.000000</td>\n",
       "      <td>43148.00</td>\n",
       "      <td>43148.00</td>\n",
       "      <td>1</td>\n",
       "      <td>0.000000</td>\n",
       "      <td>...</td>\n",
       "      <td>66686.56</td>\n",
       "      <td>66686.56</td>\n",
       "      <td>1</td>\n",
       "      <td>66686.560000</td>\n",
       "      <td>66686.56</td>\n",
       "      <td>66686.56</td>\n",
       "      <td>1</td>\n",
       "      <td>2011.00</td>\n",
       "      <td>2011</td>\n",
       "      <td>2011</td>\n",
       "    </tr>\n",
       "  </tbody>\n",
       "</table>\n",
       "<p>2159 rows × 28 columns</p>\n",
       "</div>"
      ],
      "text/plain": [
       "                                                  Id                         \\\n",
       "                                               count           mean     min   \n",
       "JobTitle                                                                      \n",
       "ACCOUNT CLERK                                     83   25734.819277   20766   \n",
       "ACCOUNTANT                                         5   24159.200000   19264   \n",
       "ACCOUNTANT INTERN                                 48   28128.833333   21536   \n",
       "ACPO,JuvP, Juv Prob (SFERS)                        1  135284.000000  135284   \n",
       "ACUPUNCTURIST                                      1   18379.000000   18379   \n",
       "...                                              ...            ...     ...   \n",
       "X-RAY LABORATORY AIDE                             26   22502.076923   12940   \n",
       "X-Ray Laboratory Aide                            100   98890.620000   49777   \n",
       "YOUTH COMMISSION ADVISOR, BOARD OF SUPERVISORS     1   23392.000000   23392   \n",
       "Youth Comm Advisor                                 4   99677.750000   58843   \n",
       "ZOO CURATOR                                        1   18779.000000   18779   \n",
       "\n",
       "                                                       BasePay                \\\n",
       "                                                   max   count          mean   \n",
       "JobTitle                                                                       \n",
       "ACCOUNT CLERK                                    35638      83  43300.806506   \n",
       "ACCOUNTANT                                       35286       5  46643.172000   \n",
       "ACCOUNTANT INTERN                                34267      48  28732.663958   \n",
       "ACPO,JuvP, Juv Prob (SFERS)                     135284       1  62290.780000   \n",
       "ACUPUNCTURIST                                    18379       1  66374.400000   \n",
       "...                                                ...     ...           ...   \n",
       "X-RAY LABORATORY AIDE                            33182      26  47664.773077   \n",
       "X-Ray Laboratory Aide                           143632     100  46086.387100   \n",
       "YOUTH COMMISSION ADVISOR, BOARD OF SUPERVISORS   23392       1  52609.910000   \n",
       "Youth Comm Advisor                              138459       4  39077.957500   \n",
       "ZOO CURATOR                                      18779       1  43148.000000   \n",
       "\n",
       "                                                                    \\\n",
       "                                                     min       max   \n",
       "JobTitle                                                             \n",
       "ACCOUNT CLERK                                     614.00  60838.20   \n",
       "ACCOUNTANT                                          0.00  65392.01   \n",
       "ACCOUNTANT INTERN                                2981.53  58501.72   \n",
       "ACPO,JuvP, Juv Prob (SFERS)                     62290.78  62290.78   \n",
       "ACUPUNCTURIST                                   66374.40  66374.40   \n",
       "...                                                  ...       ...   \n",
       "X-RAY LABORATORY AIDE                            4690.68  60086.62   \n",
       "X-Ray Laboratory Aide                            1007.00  66123.01   \n",
       "YOUTH COMMISSION ADVISOR, BOARD OF SUPERVISORS  52609.91  52609.91   \n",
       "Youth Comm Advisor                              13915.80  57544.73   \n",
       "ZOO CURATOR                                     43148.00  43148.00   \n",
       "\n",
       "                                               OvertimePay               ...  \\\n",
       "                                                     count         mean  ...   \n",
       "JobTitle                                                                 ...   \n",
       "ACCOUNT CLERK                                           83   373.200843  ...   \n",
       "ACCOUNTANT                                               5     0.000000  ...   \n",
       "ACCOUNTANT INTERN                                       48    24.430625  ...   \n",
       "ACPO,JuvP, Juv Prob (SFERS)                              1     0.000000  ...   \n",
       "ACUPUNCTURIST                                            1     0.000000  ...   \n",
       "...                                                    ...          ...  ...   \n",
       "X-RAY LABORATORY AIDE                                   26  3571.223462  ...   \n",
       "X-Ray Laboratory Aide                                  100  3483.767100  ...   \n",
       "YOUTH COMMISSION ADVISOR, BOARD OF SUPERVISORS           1     0.000000  ...   \n",
       "Youth Comm Advisor                                       4     0.000000  ...   \n",
       "ZOO CURATOR                                              1     0.000000  ...   \n",
       "\n",
       "                                                TotalPay            \\\n",
       "                                                     min       max   \n",
       "JobTitle                                                             \n",
       "ACCOUNT CLERK                                     614.00  60838.20   \n",
       "ACCOUNTANT                                       1148.40  65392.01   \n",
       "ACCOUNTANT INTERN                                2981.53  58799.53   \n",
       "ACPO,JuvP, Juv Prob (SFERS)                     62290.78  62290.78   \n",
       "ACUPUNCTURIST                                   67594.40  67594.40   \n",
       "...                                                  ...       ...   \n",
       "X-RAY LABORATORY AIDE                            5343.69  85077.40   \n",
       "X-Ray Laboratory Aide                            1007.00  99812.97   \n",
       "YOUTH COMMISSION ADVISOR, BOARD OF SUPERVISORS  53632.87  53632.87   \n",
       "Youth Comm Advisor                              19212.71  57544.73   \n",
       "ZOO CURATOR                                     66686.56  66686.56   \n",
       "\n",
       "                                               TotalPayBenefits                \\\n",
       "                                                          count          mean   \n",
       "JobTitle                                                                        \n",
       "ACCOUNT CLERK                                                83  44035.664337   \n",
       "ACCOUNTANT                                                    5  47429.268000   \n",
       "ACCOUNTANT INTERN                                            48  29031.742917   \n",
       "ACPO,JuvP, Juv Prob (SFERS)                                   1  80266.370000   \n",
       "ACUPUNCTURIST                                                 1  67594.400000   \n",
       "...                                                         ...           ...   \n",
       "X-RAY LABORATORY AIDE                                        26  52705.880385   \n",
       "X-Ray Laboratory Aide                                       100  69521.123200   \n",
       "YOUTH COMMISSION ADVISOR, BOARD OF SUPERVISORS                1  53632.870000   \n",
       "Youth Comm Advisor                                            4  60118.550000   \n",
       "ZOO CURATOR                                                   1  66686.560000   \n",
       "\n",
       "                                                                     Year  \\\n",
       "                                                     min        max count   \n",
       "JobTitle                                                                    \n",
       "ACCOUNT CLERK                                     614.00   60838.20    83   \n",
       "ACCOUNTANT                                       1148.40   65392.01     5   \n",
       "ACCOUNTANT INTERN                                2981.53   58799.53    48   \n",
       "ACPO,JuvP, Juv Prob (SFERS)                     80266.37   80266.37     1   \n",
       "ACUPUNCTURIST                                   67594.40   67594.40     1   \n",
       "...                                                  ...        ...   ...   \n",
       "X-RAY LABORATORY AIDE                            5343.69   85077.40    26   \n",
       "X-Ray Laboratory Aide                            1017.07  129044.16   100   \n",
       "YOUTH COMMISSION ADVISOR, BOARD OF SUPERVISORS  53632.87   53632.87     1   \n",
       "Youth Comm Advisor                              24957.24   85774.39     4   \n",
       "ZOO CURATOR                                     66686.56   66686.56     1   \n",
       "\n",
       "                                                                     \n",
       "                                                   mean   min   max  \n",
       "JobTitle                                                             \n",
       "ACCOUNT CLERK                                   2011.00  2011  2011  \n",
       "ACCOUNTANT                                      2011.00  2011  2011  \n",
       "ACCOUNTANT INTERN                               2011.00  2011  2011  \n",
       "ACPO,JuvP, Juv Prob (SFERS)                     2014.00  2014  2014  \n",
       "ACUPUNCTURIST                                   2011.00  2011  2011  \n",
       "...                                                 ...   ...   ...  \n",
       "X-RAY LABORATORY AIDE                           2011.00  2011  2011  \n",
       "X-Ray Laboratory Aide                           2013.04  2012  2014  \n",
       "YOUTH COMMISSION ADVISOR, BOARD OF SUPERVISORS  2011.00  2011  2011  \n",
       "Youth Comm Advisor                              2013.00  2012  2014  \n",
       "ZOO CURATOR                                     2011.00  2011  2011  \n",
       "\n",
       "[2159 rows x 28 columns]"
      ]
     },
     "execution_count": 34,
     "metadata": {},
     "output_type": "execute_result"
    }
   ],
   "source": [
    "#group the data for each job\n",
    "grouped_data=sal.groupby(['JobTitle']).agg(['count', 'mean', 'min', 'max'])\n",
    "grouped_data"
   ]
  },
  {
   "cell_type": "code",
   "execution_count": 35,
   "metadata": {},
   "outputs": [
    {
     "data": {
      "text/plain": [
       "JobTitle\n",
       "Chief Investment Officer                          436224.360000\n",
       "Chief of Police                                   411732.266667\n",
       "Chief, Fire Department                            408865.326667\n",
       "GENERAL MANAGER-METROPOLITAN TRANSIT AUTHORITY    399211.275000\n",
       "Gen Mgr, Public Trnsp Dept                        380696.440000\n",
       "Name: mean, dtype: float64"
      ]
     },
     "execution_count": 35,
     "metadata": {},
     "output_type": "execute_result"
    }
   ],
   "source": [
    "#average salaries for each group\n",
    "avg_salaries=grouped_data['TotalPayBenefits']['mean'].sort_values(ascending=False).head()\n",
    "avg_salaries"
   ]
  },
  {
   "cell_type": "code",
   "execution_count": 36,
   "metadata": {},
   "outputs": [
    {
     "data": {
      "image/png": "[encoded data removed]",
      "text/plain": [
       "<Figure size 720x288 with 1 Axes>"
      ]
     },
     "metadata": {},
     "output_type": "display_data"
    }
   ],
   "source": [
    "plt.figure(figsize=(10, 4))\n",
    "plt.pie(avg_salaries.values, labels=avg_salaries.index, autopct='%1.1f%%', startangle=140)\n",
    "plt.title('Top 5 Jobs by Salaries')\n",
    "plt.show()"
   ]
  },
  {
   "cell_type": "markdown",
   "metadata": {},
   "source": [
    "#  Correlation Analysis"
   ]
  },
  {
   "cell_type": "markdown",
   "metadata": {},
   "source": [
    "#### the BasePay and Benfits have positive correlation with totalpaybenfits"
   ]
  },
  {
   "cell_type": "code",
   "execution_count": 37,
   "metadata": {},
   "outputs": [
    {
     "data": {
      "text/plain": [
       "Id                 -0.092190\n",
       "BasePay             0.942999\n",
       "OvertimePay         0.467967\n",
       "Benefits            0.843039\n",
       "TotalPay            0.977313\n",
       "TotalPayBenefits    1.000000\n",
       "Year                0.151947\n",
       "Name: TotalPayBenefits, dtype: float64"
      ]
     },
     "execution_count": 37,
     "metadata": {},
     "output_type": "execute_result"
    }
   ],
   "source": [
    "sal.corr()['TotalPayBenefits']"
   ]
  },
  {
   "cell_type": "code",
   "execution_count": 38,
   "metadata": {},
   "outputs": [
    {
     "data": {
      "text/plain": [
       "Text(0.5, 1.0, 'Correlation between the total pay benfits')"
      ]
     },
     "execution_count": 38,
     "metadata": {},
     "output_type": "execute_result"
    },
    {
     "data": {
      "image/png": "[encoded data removed]",
      "text/plain": [
       "<Figure size 432x288 with 2 Axes>"
      ]
     },
     "metadata": {},
     "output_type": "display_data"
    }
   ],
   "source": [
    "sns.heatmap(sal.corr(),annot=True)\n",
    "plt.title('Correlation between the total pay benfits')"
   ]
  },
  {
   "cell_type": "code",
   "execution_count": 39,
   "metadata": {},
   "outputs": [
    {
     "data": {
      "text/plain": [
       "Text(0, 0.5, 'TotalPayBenfits')"
      ]
     },
     "execution_count": 39,
     "metadata": {},
     "output_type": "execute_result"
    },
    {
     "data": {
      "image/png": "[encoded data removed]",
      "text/plain": [
       "<Figure size 864x576 with 1 Axes>"
      ]
     },
     "metadata": {},
     "output_type": "display_data"
    }
   ],
   "source": [
    "plt.figure(figsize=(12,8))\n",
    "plt.scatter(sal['BasePay'],sal['TotalPayBenefits'],linewidths=0.2)\n",
    "plt.title('The relation between BasePay and TotalPayBenfits')\n",
    "plt.xlabel('BasePay')\n",
    "plt.ylabel('TotalPayBenfits')"
   ]
  },
  {
   "cell_type": "code",
   "execution_count": 40,
   "metadata": {},
   "outputs": [
    {
     "data": {
      "text/plain": [
       "Text(0, 0.5, 'TotalPayBenfits')"
      ]
     },
     "execution_count": 40,
     "metadata": {},
     "output_type": "execute_result"
    },
    {
     "data": {
      "image/png": "[encoded data removed]",
      "text/plain": [
       "<Figure size 864x576 with 1 Axes>"
      ]
     },
     "metadata": {},
     "output_type": "display_data"
    }
   ],
   "source": [
    "plt.figure(figsize=(12,8))\n",
    "plt.scatter(sal['Benefits'],sal['TotalPayBenefits'],linewidths=0.2,c='r')\n",
    "plt.title('The relation between Benefits and TotalPayBenfits')\n",
    "plt.xlabel('Benefits')\n",
    "plt.ylabel('TotalPayBenfits')"
   ]
  },
  {
   "cell_type": "markdown",
   "metadata": {},
   "source": [
    "## Summary of Insights"
   ]
  },
  {
   "cell_type": "markdown",
   "metadata": {},
   "source": [
    "1. **the range of salaries in San Francisco between 100000 and 200000**\n",
    "<br> <br>\n",
    "2. **Top 5 jobs that have more employess:**\n",
    "   1. Transit Operator                \n",
    "   2.     Special Nurse                   \n",
    "   3. Registered Nurse                \n",
    "   4. Public Svc Aide-Public Works    \n",
    "   5. Police Officer 3   \n",
    "   <br> <br>\n",
    "3. **The Salaries trends over the years**\n",
    "   - the salaries increasces significantly from 2011 to 2012 \n",
    "   - then started to incresce slightly from 2012 to 2013 \n",
    "   - then decresed from 2013 to 2014  \n",
    "4. **the top 5 jobs have highest Salaries**\n",
    "    - Chief Investment Officer                          \n",
    "    - Chief of Police                                  \n",
    "    - Chief, Fire Department                            \n",
    "    - GENERAL MANAGER-METROPOLITAN TRANSIT AUTHORITY    \n",
    "    - Gen Mgr, Public Trnsp Dept                        \n",
    "    <br> <br>\n",
    "5. **2014 has the highest number of employees with 25.6%**   "
   ]
  },
  {
   "cell_type": "markdown",
   "metadata": {},
   "source": [
    "# Thank You"
   ]
  }
 ],
 "metadata": {
  "kernelspec": {
   "display_name": "Python 3 (ipykernel)",
   "language": "python",
   "name": "python3"
  },
  "language_info": {
   "codemirror_mode": {
    "name": "ipython",
    "version": 3
   },
   "file_extension": ".py",
   "mimetype": "text/x-python",
   "name": "python",
   "nbconvert_exporter": "python",
   "pygments_lexer": "ipython3",
   "version": "3.9.12"
  }
 },
 "nbformat": 4,
 "nbformat_minor": 1
}
